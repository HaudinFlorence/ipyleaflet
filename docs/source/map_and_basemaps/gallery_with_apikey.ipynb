{
 "cells": [
  {
   "cell_type": "code",
   "execution_count": null,
   "id": "a48a4dec-394a-4b3d-b352-65f947dd2d42",
   "metadata": {},
   "outputs": [],
   "source": [
    "import piplite\n",
    "await piplite.install('ipyleaflet');"
   ]
  },
  {
   "cell_type": "code",
   "execution_count": null,
   "id": "331c515c-5ef9-4bf3-9225-0be85bc85ff5",
   "metadata": {},
   "outputs": [],
   "source": [
    "from ipyleaflet import Map, basemaps, basemap_to_tiles, LayersControl, WidgetControl\n",
    "import ipywidgets as widgets\n",
    "#import json\n",
    "#access_data = json.load(open(\"access-data.json\"))\n",
    "center = [38.128, 2.588]\n",
    "zoom = 3 \n",
    "\n",
    "access_data = {\"Thunderforest\": {\n",
    "    \"keyString\":\"apikey\",\n",
    "    \"name\": \"Thunderforest\"\n",
    "  },\n",
    "  \"OpenWeatherMap\": {\n",
    "    \"keyString\":\"apiKey\",\n",
    "    \"name\": \"OpenWeatherMap\"\n",
    "  },\n",
    "  \"MapTiler\": {\n",
    "    \"keyString\": \"key\",\n",
    "  \"name\": \"MapTiler\"\n",
    "  },\n",
    "  \"MapBox\": {\n",
    "    \"keyString\": \"accessToken\",\n",
    "    \"name\": \"MapBox\"\n",
    "  },\n",
    "  \"Jawg\": {\n",
    "    \"keyString\": \"accessToken\",\n",
    "    \"name\": \"Jawg\"\n",
    "  },\n",
    "  \"TomTom\": {\n",
    "    \"keyString\": \"apikey\",\n",
    "    \"name\": \"TomTom\"\n",
    "  },\n",
    "  \"HEREv3\": {\n",
    "    \"keyString\": \"apiKey\",\n",
    "    \"name\": \"HEREv3\"\n",
    "  },\n",
    "  \"AzureMaps\": {\n",
    "    \"keyString\": \"subscriptionKey\",\n",
    "    \"name\": \"AzureMaps\"\n",
    "  }\n",
    "\n",
    "}\n"
   ]
  },
  {
   "cell_type": "code",
   "execution_count": null,
   "id": "64848d6c-dd24-4fd2-a5d8-436c73d688b9",
   "metadata": {},
   "outputs": [],
   "source": [
    "# List of names of layers with apikey and without apikeys\n",
    "ListNoApikey =[]\n",
    "ListWithApikey =[]\n",
    "for [key, val] in basemaps.items(): \n",
    "    if ('url' in val):\n",
    "        apiname = val.name\n",
    "        if (apiname in access_data):\n",
    "            ListWithApikey.append(val.name)        \n",
    "        else:\n",
    "            ListNoApikey.append(val.name)  \n",
    "    else:\n",
    "        newdata = basemaps[key]\n",
    "        \n",
    "        for [newkey, newval] in newdata.items():\n",
    "                basemap_name = newval.name\n",
    "                apiname = basemap_name.split('.')[0]\n",
    "                subname = basemap_name.split('.')[1] \n",
    "                \n",
    "                if (apiname == 'HERE'):\n",
    "                    pass\n",
    "                elif (apiname in access_data):\n",
    "                    ListWithApikey.append(newval.name)  \n",
    "                else:\n",
    "                    ListNoApikey.append(newval.name)                          "
   ]
  },
  {
   "cell_type": "code",
   "execution_count": null,
   "id": "5a2dfa4d-9a76-487a-99d1-e17547e3a20c",
   "metadata": {},
   "outputs": [],
   "source": [
    "for i in range(len(ListWithApikey)):\n",
    "    print(f'Basemap n°{i} : {ListWithApikey[i]}')"
   ]
  },
  {
   "cell_type": "code",
   "execution_count": null,
   "id": "c2a1cc5d-c735-4512-b7b5-d6613251e0ae",
   "metadata": {},
   "outputs": [],
   "source": [
    "basemap_name = ListWithApikey[0]\n",
    "print(basemap_name)\n",
    "if ('.' in basemap_name):\n",
    "    apiname = basemap_name.split('.')[0]\n",
    "    subname = basemap_name.split('.')[1] \n",
    "    basemap = basemaps[apiname][subname]\n",
    "else:\n",
    "    basemap = basemaps[apiname]\n",
    "    \n",
    "keyString = access_data[apiname][\"keyString\"]\n",
    "apikey_widget = widgets.Password(\n",
    "    value='',\n",
    "    placeholder='Type something',\n",
    "    description='apikey:',\n",
    "    )\n",
    "display(apikey_widget)"
   ]
  },
  {
   "cell_type": "code",
   "execution_count": null,
   "id": "10aebef6-2ea9-45f3-a3b5-f210f0cff09e",
   "metadata": {},
   "outputs": [],
   "source": [
    "basemap[keyString] = apikey_widget.value"
   ]
  },
  {
   "cell_type": "code",
   "execution_count": null,
   "id": "60517154-cb51-4979-b54f-1ee2a1a5e5d9",
   "metadata": {},
   "outputs": [],
   "source": [
    "display(Map(basemap=basemap, center=center, zoom = zoom))"
   ]
  }
 ],
 "metadata": {
  "kernelspec": {
   "display_name": "Python 3 (ipykernel)",
   "language": "python",
   "name": "python3"
  },
  "language_info": {
   "codemirror_mode": {
    "name": "ipython",
    "version": 3
   },
   "file_extension": ".py",
   "mimetype": "text/x-python",
   "name": "python",
   "nbconvert_exporter": "python",
   "pygments_lexer": "ipython3",
   "version": "3.9.12"
  }
 },
 "nbformat": 4,
 "nbformat_minor": 5
}
