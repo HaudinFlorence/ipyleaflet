{
 "cells": [
  {
   "cell_type": "code",
   "execution_count": 2,
   "id": "824c778c-6542-46d4-a853-ef829efad93b",
   "metadata": {},
   "outputs": [],
   "source": [
    "import piplite\n",
    "await piplite.install('ipyleaflet');"
   ]
  },
  {
   "cell_type": "code",
   "execution_count": null,
   "id": "6571e19e-b27c-448b-bbaa-3a57eb15293f",
   "metadata": {},
   "outputs": [],
   "source": [
    "from ipyleaflet import Map, basemaps, basemap_to_tiles, LayersControl, WidgetControl\n",
    "import ipywidgets as widgets\n",
    "#import json\n",
    "#access_data = json.load(open(\"access-data.json\"))\n",
    "\n",
    "center = [38.128, 2.588]\n",
    "zoom = 4 \n",
    "\n",
    "access_data = {\"Thunderforest\": {\n",
    "    \"keyString\":\"apikey\",\n",
    "    \"name\": \"Thunderforest\"\n",
    "  },\n",
    "  \"OpenWeatherMap\": {\n",
    "    \"keyString\":\"apiKey\",\n",
    "    \"name\": \"OpenWeatherMap\"\n",
    "  },\n",
    "  \"MapTiler\": {\n",
    "    \"keyString\": \"key\",\n",
    "  \"name\": \"MapTiler\"\n",
    "  },\n",
    "  \"MapBox\": {\n",
    "    \"keyString\": \"accessToken\",\n",
    "    \"name\": \"MapBox\"\n",
    "  },\n",
    "  \"Jawg\": {\n",
    "    \"keyString\": \"accessToken\",\n",
    "    \"name\": \"Jawg\"\n",
    "  },\n",
    "  \"TomTom\": {\n",
    "    \"keyString\": \"apikey\",\n",
    "    \"name\": \"TomTom\"\n",
    "  },\n",
    "  \"HEREv3\": {\n",
    "    \"keyString\": \"apiKey\",\n",
    "    \"name\": \"HEREv3\"\n",
    "  },\n",
    "  \"AzureMaps\": {\n",
    "    \"keyString\": \"subscriptionKey\",\n",
    "    \"name\": \"AzureMaps\"\n",
    "  }\n",
    "\n",
    "}"
   ]
  },
  {
   "cell_type": "code",
   "execution_count": 3,
   "id": "1d972359-7135-4b9c-b810-6c7f2dd1340b",
   "metadata": {},
   "outputs": [],
   "source": [
    "## Using a dict of basemaps to use Dropdown widget for basemaps that don't require apikey\n",
    "layersNoApikey ={}\n",
    "\n",
    "for [key, val] in basemaps.items(): \n",
    "    if ('url' in val):\n",
    "        apiname = val.name\n",
    "        if (apiname in access_data):\n",
    "            pass        \n",
    "        else:\n",
    "            layersNoApikey[apiname] = (basemap_to_tiles(basemaps[apiname]),)\n",
    "            \n",
    "    else:\n",
    "        newdata = basemaps[key]\n",
    "        \n",
    "        \n",
    "        for [newkey, newval] in newdata.items():\n",
    "                basemap_name = newval.name\n",
    "                apiname = basemap_name.split('.')[0]\n",
    "                subname = basemap_name.split('.')[1] \n",
    "                \n",
    "                if (apiname == 'HERE'):\n",
    "                    pass\n",
    "                elif (apiname in access_data):\n",
    "                    pass\n",
    "                else: \n",
    "                    layersNoApikey[basemap_name] = (basemap_to_tiles(basemaps[apiname][subname]),)          "
   ]
  },
  {
   "cell_type": "code",
   "execution_count": 4,
   "id": "005378a4-9a23-458f-bd1e-5cff14311885",
   "metadata": {},
   "outputs": [
    {
     "data": {
      "application/vnd.jupyter.widget-view+json": {
       "model_id": "3d2e36c7850d4ae7891926ffc45aec32",
       "version_major": 2,
       "version_minor": 0
      },
      "text/plain": [
       "Map(center=[38.128, 2.588], controls=(ZoomControl(options=['position', 'zoom_in_text', 'zoom_in_title', 'zoom_…"
      ]
     },
     "metadata": {},
     "output_type": "display_data"
    }
   ],
   "source": [
    "m =  Map(center=center, zoom=zoom)\n",
    "layer_selector = widgets.Dropdown(\n",
    "    options=layersNoApikey,\n",
    "    description='Layer :',\n",
    ")\n",
    "\n",
    "widgets.link((layer_selector,'value'),(m,'layers'))\n",
    "\n",
    "layer_selector_control = WidgetControl(widget=layer_selector, position='bottomright')\n",
    "\n",
    "m.add_control(layer_selector_control)\n",
    "m"
   ]
  }
 ],
 "metadata": {
  "kernelspec": {
   "display_name": "Python 3 (ipykernel)",
   "language": "python",
   "name": "python3"
  },
  "language_info": {
   "codemirror_mode": {
    "name": "ipython",
    "version": 3
   },
   "file_extension": ".py",
   "mimetype": "text/x-python",
   "name": "python",
   "nbconvert_exporter": "python",
   "pygments_lexer": "ipython3",
   "version": "3.9.12"
  }
 },
 "nbformat": 4,
 "nbformat_minor": 5
}
