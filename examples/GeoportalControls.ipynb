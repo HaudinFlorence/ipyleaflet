{
 "cells": [
  {
   "cell_type": "code",
   "execution_count": 1,
   "id": "6bb0dd68-f96d-45c5-b3de-48c2092f2690",
   "metadata": {},
   "outputs": [],
   "source": [
    "from ipyleaflet import *\n",
    "from ipyleaflet.geoportal import GeoportalWMTS, GeoportalLayerSwitcher, GeoportalSearchEngine, GeoportalRoute"
   ]
  },
  {
   "cell_type": "code",
   "execution_count": 3,
   "id": "fdeacb8e-3113-453d-ab63-a5ab639bf0c8",
   "metadata": {},
   "outputs": [
    {
     "data": {
      "application/vnd.jupyter.widget-view+json": {
       "model_id": "95aeab83e1fe49fc87dcae3e3c80b6a9",
       "version_major": 2,
       "version_minor": 0
      },
      "text/plain": [
       "Map(center=[44.799999, 2.26667], controls=(ZoomControl(options=['position', 'zoom_in_text', 'zoom_in_title', '…"
      ]
     },
     "metadata": {},
     "output_type": "display_data"
    }
   ],
   "source": [
    "#Route for itinerary calculation\n",
    "layer = GeoportalWMTS(layer = 'GEOGRAPHICALGRIDSYSTEMS.PLANIGNV2', api_key = 'cartes', format = 'image/png')\n",
    "m = Map(center=(44.799999, 2.26667), zoom=10, zoom_control=True)\n",
    "m.add(layer)\n",
    "route_control = GeoportalRoute()\n",
    "m.add(route_control)"
   ]
  },
  {
   "cell_type": "code",
   "execution_count": 8,
   "id": "3a686d99-c3ca-4596-81aa-24442564bea2",
   "metadata": {},
   "outputs": [
    {
     "data": {
      "application/vnd.jupyter.widget-view+json": {
       "model_id": "6111476c55a64564b77ba196455b171c",
       "version_major": 2,
       "version_minor": 0
      },
      "text/plain": [
       "Map(center=[44.799999, 2.26667], controls=(ZoomControl(options=['position', 'zoom_in_text', 'zoom_in_title', '…"
      ]
     },
     "metadata": {},
     "output_type": "display_data"
    }
   ],
   "source": [
    "#LayerSwitcher\n",
    "m1 = Map(center=(44.799999, 2.26667), zoom=10, zoom_control=True)\n",
    "layer1 = GeoportalWMTS() #default\n",
    "layer2 = GeoportalWMTS(layer = 'ELEVATION.SLOPES', api_key = 'altimetrie')\n",
    "layer3 = GeoportalWMTS(layer = 'HYDROGRAPHY.BCAE.LATEST', api_key = 'agriculture', format = 'image/png')\n",
    "layer4 = GeoportalWMTS(layer = 'GEOGRAPHICALGRIDSYSTEMS.PLANIGNV2', api_key = 'cartes', format = 'image/png')\n",
    "m1.add(layer1)\n",
    "m1.add(layer2)\n",
    "m1.add(layer3)\n",
    "m1.add(layer4)\n",
    "layer_control = GeoportalLayerSwitcher()\n",
    "m1.add(layer_control)"
   ]
  },
  {
   "cell_type": "code",
   "execution_count": null,
   "id": "57062455-fe86-4e3b-8eaf-94e996b44830",
   "metadata": {},
   "outputs": [],
   "source": []
  }
 ],
 "metadata": {
  "kernelspec": {
   "display_name": "Python 3 (ipykernel)",
   "language": "python",
   "name": "python3"
  },
  "language_info": {
   "codemirror_mode": {
    "name": "ipython",
    "version": 3
   },
   "file_extension": ".py",
   "mimetype": "text/x-python",
   "name": "python",
   "nbconvert_exporter": "python",
   "pygments_lexer": "ipython3",
   "version": "3.9.12"
  }
 },
 "nbformat": 4,
 "nbformat_minor": 5
}
