{
 "cells": [
  {
   "cell_type": "code",
   "execution_count": 4,
   "id": "6bb0dd68-f96d-45c5-b3de-48c2092f2690",
   "metadata": {},
   "outputs": [
    {
     "data": {
      "application/vnd.jupyter.widget-view+json": {
       "model_id": "72c6852ad1be48459976e5b4c009a77a",
       "version_major": 2,
       "version_minor": 0
      },
      "text/plain": [
       "Map(center=[44.799999, 2.26667], controls=(ZoomControl(options=['position', 'zoom_in_text', 'zoom_in_title', '…"
      ]
     },
     "metadata": {},
     "output_type": "display_data"
    }
   ],
   "source": [
    "from ipyleaflet import *\n",
    "from ipyleaflet.geoportal import GeoportalWMTS, GeoportalLayerSwitcher\n",
    "m = Map(center=(44.799999, 2.26667), zoom=10, zoom_control=True)\n",
    "layer1 = GeoportalWMTS() #default\n",
    "layer2 = GeoportalWMTS(layer = 'ELEVATION.SLOPES', api_key = 'altimetrie')\n",
    "m.add(layer1)\n",
    "m.add(layer2)\n",
    "layer_control = GeoportalLayerSwitcher()\n",
    "m.add(layer_control)"
   ]
  },
  {
   "cell_type": "code",
   "execution_count": null,
   "id": "57062455-fe86-4e3b-8eaf-94e996b44830",
   "metadata": {},
   "outputs": [],
   "source": []
  }
 ],
 "metadata": {
  "kernelspec": {
   "display_name": "Python 3 (ipykernel)",
   "language": "python",
   "name": "python3"
  },
  "language_info": {
   "codemirror_mode": {
    "name": "ipython",
    "version": 3
   },
   "file_extension": ".py",
   "mimetype": "text/x-python",
   "name": "python",
   "nbconvert_exporter": "python",
   "pygments_lexer": "ipython3",
   "version": "3.10.5"
  }
 },
 "nbformat": 4,
 "nbformat_minor": 5
}
