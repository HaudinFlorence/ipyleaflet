{
 "cells": [
  {
   "cell_type": "code",
   "execution_count": null,
   "id": "6bb0dd68-f96d-45c5-b3de-48c2092f2690",
   "metadata": {},
   "outputs": [],
   "source": [
    "from ipyleaflet import *\n",
    "from ipyleaflet.geoportal import GeoportalWMTS, GeoportalLayerSwitcher, GeoportalSearchEngine\n",
    "m = Map(center=(44.799999, 2.26667), zoom=10, zoom_control=True)\n",
    "layer1 = GeoportalWMTS() #default\n",
    "layer2 = GeoportalWMTS(layer = 'ELEVATION.SLOPE')\n",
    "m.add(layer1)\n",
    "m.add(layer2)\n",
    "layer_control = GeoportalLayerSwitcher()\n",
    "search_control = GeoportalSearchEngine()\n",
    "m.add(layer_control)\n",
    "m.add(search_control)"
   ]
  },
  {
   "cell_type": "code",
   "execution_count": null,
   "id": "57062455-fe86-4e3b-8eaf-94e996b44830",
   "metadata": {},
   "outputs": [],
   "source": []
  }
 ],
 "metadata": {
  "kernelspec": {
   "display_name": "Python 3 (ipykernel)",
   "language": "python",
   "name": "python3"
  },
  "language_info": {
   "codemirror_mode": {
    "name": "ipython",
    "version": 3
   },
   "file_extension": ".py",
   "mimetype": "text/x-python",
   "name": "python",
   "nbconvert_exporter": "python",
   "pygments_lexer": "ipython3",
   "version": "3.10.5"
  }
 },
 "nbformat": 4,
 "nbformat_minor": 5
}
