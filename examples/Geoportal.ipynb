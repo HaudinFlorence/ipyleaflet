{
 "cells": [
  {
   "cell_type": "code",
   "execution_count": null,
   "id": "121b2e3e-faa5-4f53-87c9-9a3112440e98",
   "metadata": {},
   "outputs": [],
   "source": [
    "# Set up for JupyterLite\n",
    "try:\n",
    "    import piplite\n",
    "    await piplite.install('ipyleaflet')\n",
    "except ImportError:\n",
    "    pass"
   ]
  },
  {
   "cell_type": "code",
   "execution_count": null,
   "id": "119aacd7-fb6b-4bf5-9a97-ac8301eabfed",
   "metadata": {},
   "outputs": [],
   "source": [
    "from ipyleaflet import *\n",
    "from ipyleaflet.geoportal import GeoportalWMTS\n",
    "m1 = Map(center=(48.799999, 2.26667), zoom=10, zoom_control=True)\n",
    "layer1 = GeoportalWMTS() #default\n",
    "m1.add(layer1)"
   ]
  },
  {
   "cell_type": "code",
   "execution_count": null,
   "id": "2936c8dc-1546-4f13-8c18-6984aaf1c0e3",
   "metadata": {},
   "outputs": [],
   "source": [
    "m2 = Map(center=(44.400002, 3.36667), zoom=8, zoom_control=True)\n",
    "layer2 = GeoportalWMTS(layer_name = 'ELEVATION.SLOPES', apiKey = 'altimetrie')\n",
    "m2.add(layer2)"
   ]
  },
  {
   "cell_type": "code",
   "execution_count": null,
   "id": "24a0dda1-4d07-437e-9c39-396176d5fa53",
   "metadata": {},
   "outputs": [],
   "source": []
  }
 ],
 "metadata": {
  "kernelspec": {
   "display_name": "Python 3 (ipykernel)",
   "language": "python",
   "name": "python3"
  },
  "language_info": {
   "codemirror_mode": {
    "name": "ipython",
    "version": 3
   },
   "file_extension": ".py",
   "mimetype": "text/x-python",
   "name": "python",
   "nbconvert_exporter": "python",
   "pygments_lexer": "ipython3",
   "version": "3.10.5"
  }
 },
 "nbformat": 4,
 "nbformat_minor": 5
}
