{
 "cells": [
  {
   "cell_type": "code",
   "execution_count": null,
   "id": "121b2e3e-faa5-4f53-87c9-9a3112440e98",
   "metadata": {},
   "outputs": [],
   "source": [
    "# Set up for JupyterLite\n",
    "try:\n",
    "    import piplite\n",
    "    await piplite.install('ipyleaflet')\n",
    "except ImportError:\n",
    "    pass"
   ]
  },
  {
   "cell_type": "code",
   "execution_count": 1,
   "id": "119aacd7-fb6b-4bf5-9a97-ac8301eabfed",
   "metadata": {},
   "outputs": [
    {
     "ename": "NameError",
     "evalue": "name 'layer' is not defined",
     "output_type": "error",
     "traceback": [
      "\u001b[0;31m---------------------------------------------------------------------------\u001b[0m",
      "\u001b[0;31mNameError\u001b[0m                                 Traceback (most recent call last)",
      "Input \u001b[0;32mIn [1]\u001b[0m, in \u001b[0;36m<cell line: 5>\u001b[0;34m()\u001b[0m\n\u001b[1;32m      2\u001b[0m \u001b[38;5;28;01mfrom\u001b[39;00m \u001b[38;5;21;01mipyleaflet\u001b[39;00m\u001b[38;5;21;01m.\u001b[39;00m\u001b[38;5;21;01mgeoportal\u001b[39;00m \u001b[38;5;28;01mimport\u001b[39;00m GeoportalWMTS\n\u001b[1;32m      4\u001b[0m m \u001b[38;5;241m=\u001b[39m Map(center\u001b[38;5;241m=\u001b[39m(\u001b[38;5;241m48.85\u001b[39m, \u001b[38;5;241m2.35\u001b[39m), zoom\u001b[38;5;241m=\u001b[39m\u001b[38;5;241m14\u001b[39m, zoom_control\u001b[38;5;241m=\u001b[39m\u001b[38;5;28;01mFalse\u001b[39;00m)\n\u001b[0;32m----> 5\u001b[0m layer \u001b[38;5;241m=\u001b[39m GeoportalWMTS({\u001b[43mlayer\u001b[49m :\u001b[38;5;124m\"\u001b[39m\u001b[38;5;124mORTHOIMAGERY.ORTHOPHOTOS\u001b[39m\u001b[38;5;124m\"\u001b[39m,})\n\u001b[1;32m      6\u001b[0m m\u001b[38;5;241m.\u001b[39madd(layer)\n",
      "\u001b[0;31mNameError\u001b[0m: name 'layer' is not defined"
     ]
    }
   ],
   "source": [
    "from ipyleaflet import *\n",
    "from ipyleaflet.geoportal import GeoportalWMTS\n",
    "\n",
    "m = Map(center=(48.85, 2.35), zoom=14, zoom_control=False)\n",
    "layer = GeoportalWMTS(name=\"ORTHOIMAGERY.ORTHOPHOTOS\")\n",
    "m.add(layer)"
   ]
  },
  {
   "cell_type": "code",
   "execution_count": null,
   "id": "85b0340e-4b3b-455c-ae07-8734cd68f765",
   "metadata": {},
   "outputs": [],
   "source": []
  }
 ],
 "metadata": {
  "kernelspec": {
   "display_name": "Python 3 (ipykernel)",
   "language": "python",
   "name": "python3"
  },
  "language_info": {
   "codemirror_mode": {
    "name": "ipython",
    "version": 3
   },
   "file_extension": ".py",
   "mimetype": "text/x-python",
   "name": "python",
   "nbconvert_exporter": "python",
   "pygments_lexer": "ipython3",
   "version": "3.9.13"
  }
 },
 "nbformat": 4,
 "nbformat_minor": 5
}
