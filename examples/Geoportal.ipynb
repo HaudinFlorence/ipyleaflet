{
 "cells": [
  {
   "cell_type": "code",
   "execution_count": null,
   "id": "121b2e3e-faa5-4f53-87c9-9a3112440e98",
   "metadata": {},
   "outputs": [],
   "source": [
    "# Set up for JupyterLite\n",
    "try:\n",
    "    import piplite\n",
    "    await piplite.install('ipyleaflet')\n",
    "except ImportError:\n",
    "    pass"
   ]
  },
  {
   "cell_type": "code",
   "execution_count": null,
   "id": "68a99b3b-58f1-4251-a724-f5135ac72be1",
   "metadata": {},
   "outputs": [],
   "source": [
    "from ipyleaflet import *\n",
    "from ipyleaflet.geoportal import GeoportalWMTS\n",
    "m1 = Map(center=(44.799999, 2.26667), zoom=10, zoom_control=True)\n",
    "layer1 = GeoportalWMTS() #default\n",
    "m1.add(layer1)"
   ]
  },
  {
   "cell_type": "code",
   "execution_count": null,
   "id": "9452eaf1-38ff-463f-b272-95baa8f840a5",
   "metadata": {},
   "outputs": [],
   "source": [
    "m2 = Map(center=(44.400002, 3.36667), zoom=10, zoom_control=True)\n",
    "layer2 = GeoportalWMTS(layer = 'ELEVATION.SLOPES', api_key = 'altimetrie')\n",
    "m2.add(layer2)"
   ]
  },
  {
   "cell_type": "code",
   "execution_count": null,
   "id": "69d5a707-f501-4d5c-a22e-3e59e2656aaf",
   "metadata": {},
   "outputs": [],
   "source": [
    "m3 = Map(center=(44.799999, 2.26667), zoom=10, zoom_control=True)\n",
    "layer3 = GeoportalWMTS(layer = 'GEOGRAPHICALGRIDSYSTEMS.PLANIGNV2', api_key = 'cartes', format = 'image/png')\n",
    "m3.add(layer3)"
   ]
  },
  {
   "cell_type": "code",
   "execution_count": null,
   "id": "2936c8dc-1546-4f13-8c18-6984aaf1c0e3",
   "metadata": {},
   "outputs": [],
   "source": [
    "m4 = Map(center=(44.400002, 3.36667), zoom=10, zoom_control=True)\n",
    "layer4 = GeoportalWMTS(layer = 'HYDROGRAPHY.BCAE.LATEST', api_key = 'agriculture', format = 'image/png')\n",
    "m4.add(layer4)"
   ]
  },
  {
   "cell_type": "code",
   "execution_count": null,
   "id": "b6edf13b-f9a1-45c4-b28a-7e9028d4f89f",
   "metadata": {},
   "outputs": [],
   "source": []
  }
 ],
 "metadata": {
  "kernelspec": {
   "display_name": "Python 3 (ipykernel)",
   "language": "python",
   "name": "python3"
  },
  "language_info": {
   "codemirror_mode": {
    "name": "ipython",
    "version": 3
   },
   "file_extension": ".py",
   "mimetype": "text/x-python",
   "name": "python",
   "nbconvert_exporter": "python",
   "pygments_lexer": "ipython3",
   "version": "3.10.5"
  }
 },
 "nbformat": 4,
 "nbformat_minor": 5
}
