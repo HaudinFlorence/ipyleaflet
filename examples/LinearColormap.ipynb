{
 "cells": [
  {
   "cell_type": "code",
   "execution_count": null,
   "id": "5ceba3ee-3341-4ca5-84f4-9cc4a1fef17a",
   "metadata": {},
   "outputs": [],
   "source": [
    "from ipywidgets import Output\n",
    "from branca.colormap import linear\n",
    "\n",
    "colormap_choice = linear.YlOrRd_04\n",
    "mycaption = 'Unemployment'\n",
    "value_min = 3.2\n",
    "value_max = 10.3\n",
    "widget = Output()\n",
    "with widget:\n",
    "    colormap = colormap_choice.scale(value_min, value_max)\n",
    "    colormap.caption = mycaption\n",
    "    display(colormap)\n",
    "    \n",
    "widget    "
   ]
  }
 ],
 "metadata": {
  "kernelspec": {
   "display_name": "Python 3 (ipykernel)",
   "language": "python",
   "name": "python3"
  },
  "language_info": {
   "codemirror_mode": {
    "name": "ipython",
    "version": 3
   },
   "file_extension": ".py",
   "mimetype": "text/x-python",
   "name": "python",
   "nbconvert_exporter": "python",
   "pygments_lexer": "ipython3",
   "version": "3.9.12"
  }
 },
 "nbformat": 4,
 "nbformat_minor": 5
}
